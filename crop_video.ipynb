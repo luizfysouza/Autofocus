{
 "cells": [
  {
   "cell_type": "code",
   "execution_count": 1,
   "metadata": {},
   "outputs": [],
   "source": [
    "import numpy as np\n",
    "import pandas as pd\n",
    "import matplotlib.pyplot as plt\n",
    "import PIL\n",
    "import os\n",
    "import re\n",
    "import cv2"
   ]
  },
  {
   "cell_type": "code",
   "execution_count": 2,
   "metadata": {},
   "outputs": [],
   "source": [
    "df = pd.read_csv('tracking.txt', sep = '\\t')"
   ]
  },
  {
   "cell_type": "code",
   "execution_count": 3,
   "metadata": {},
   "outputs": [],
   "source": [
    "X_centers = df[df.id == 0]['xBody'].values\n",
    "y_centers = df[df.id == 0]['yBody'].values\n",
    "img_numbers = df[df.id == 0]['imageNumber'].values"
   ]
  },
  {
   "cell_type": "code",
   "execution_count": 4,
   "metadata": {},
   "outputs": [],
   "source": [
    "data = []\n",
    "c1 = 0\n",
    "for dirname, _, filenames in (os.walk('video/images/')):\n",
    "    for c, filename in enumerate(sorted(filenames)):\n",
    "        fr = int(re.findall(r'\\d+', filename)[0])\n",
    "        if (fr in img_numbers):\n",
    "            img = PIL.Image.open(os.path.join(dirname, filename)).convert('L')\n",
    "            g = np.asarray(img)\n",
    "            ind = np.where(img_numbers == fr)[0].item()\n",
    "            X = int(X_centers[ind])\n",
    "            Y = int(y_centers[ind])\n",
    "            im = g[Y-40 : Y+40, X-40 : X+40].astype(np.uint8)\n",
    "            data.append(im)\n",
    "            \n",
    "data = np.array(data)"
   ]
  },
  {
   "cell_type": "code",
   "execution_count": 5,
   "metadata": {},
   "outputs": [],
   "source": [
    "\n",
    "for d, n in zip(data, img_numbers):\n",
    "    PIL.Image.fromarray(d).save('test_data/frame' + str(n) + '.jpg')"
   ]
  }
 ],
 "metadata": {
  "kernelspec": {
   "display_name": "neuralforecast",
   "language": "python",
   "name": "python3"
  },
  "language_info": {
   "codemirror_mode": {
    "name": "ipython",
    "version": 3
   },
   "file_extension": ".py",
   "mimetype": "text/x-python",
   "name": "python",
   "nbconvert_exporter": "python",
   "pygments_lexer": "ipython3",
   "version": "3.11.4"
  },
  "orig_nbformat": 4
 },
 "nbformat": 4,
 "nbformat_minor": 2
}
