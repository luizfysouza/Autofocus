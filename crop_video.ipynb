{
 "cells": [
  {
   "cell_type": "code",
   "execution_count": 1,
   "metadata": {},
   "outputs": [],
   "source": [
    "import numpy as np\n",
    "import pandas as pd\n",
    "import matplotlib.pyplot as plt\n",
    "import PIL\n",
    "import os\n",
    "import re\n",
    "import cv2"
   ]
  },
  {
   "cell_type": "code",
   "execution_count": 2,
   "metadata": {},
   "outputs": [],
   "source": [
    "df = pd.read_csv('tracking.txt', sep = '\\t')"
   ]
  },
  {
   "cell_type": "code",
   "execution_count": 3,
   "metadata": {},
   "outputs": [],
   "source": [
    "X_centers = df[df.id == 0]['xBody'].values\n",
    "y_centers = df[df.id == 0]['yBody'].values\n",
    "img_numbers = df[df.id == 0]['imageNumber'].values"
   ]
  },
  {
   "cell_type": "code",
   "execution_count": 54,
   "metadata": {},
   "outputs": [],
   "source": [
    "data = []\n",
    "c1 = 0\n",
    "for dirname, _, filenames in (os.walk('video')):\n",
    "    for c, filename in enumerate(sorted(filenames, key=lambda x: int(re.sub('\\D', '', x)))):\n",
    "        fr = int(re.findall(r'\\d+', filename)[0])\n",
    "        if (fr in img_numbers):\n",
    "            img = PIL.Image.open(os.path.join(dirname, filename)).convert('L')\n",
    "            g = np.asarray(img)\n",
    "            ind = np.where(img_numbers == fr)[0].item()\n",
    "            X = int(X_centers[ind])\n",
    "            Y = int(y_centers[ind])\n",
    "            im = g[Y-45 : Y+45, X-45: X+45].astype(np.uint8)\n",
    "            data.append(im)\n",
    "            \n",
    "data = np.array(data)"
   ]
  },
  {
   "cell_type": "code",
   "execution_count": 35,
   "metadata": {},
   "outputs": [],
   "source": [
    "\n",
    "for d, n in zip(data, img_numbers):\n",
    "    PIL.Image.fromarray(d).save('data2/frame' + str(n) + '.jpg')"
   ]
  },
  {
   "cell_type": "code",
   "execution_count": 61,
   "metadata": {},
   "outputs": [],
   "source": [
    "#save data composed of 442 images of shape 90,90 into a mp4 file with 20 fps\n",
    "fourcc = cv2.VideoWriter_fourcc(*'mp4v')\n",
    "out = cv2.VideoWriter('output.mp4', fourcc, 20, (90,90), 0)\n",
    "for i in range(len(data)):\n",
    "    out.write(data[i])\n",
    "out.release()\n",
    "\n",
    "\n",
    "\n"
   ]
  },
  {
   "cell_type": "markdown",
   "metadata": {},
   "source": [
    "# No background"
   ]
  },
  {
   "cell_type": "code",
   "execution_count": 65,
   "metadata": {},
   "outputs": [],
   "source": [
    "background = np.array(PIL.Image.open('background.pgm').convert('L'))"
   ]
  },
  {
   "cell_type": "code",
   "execution_count": 72,
   "metadata": {},
   "outputs": [],
   "source": [
    "data = []\n",
    "c1 = 0\n",
    "for dirname, _, filenames in (os.walk('video')):\n",
    "    for c, filename in enumerate(sorted(filenames, key=lambda x: int(re.sub('\\D', '', x)))):\n",
    "        fr = int(re.findall(r'\\d+', filename)[0])\n",
    "        if (fr in img_numbers):\n",
    "            img = PIL.Image.open(os.path.join(dirname, filename)).convert('L')\n",
    "            g = np.asarray(img) - background\n",
    "            ind = np.where(img_numbers == fr)[0].item()\n",
    "            X = int(X_centers[ind])\n",
    "            Y = int(y_centers[ind])\n",
    "            im = g[Y-45 : Y+45, X-45: X+45].astype(np.uint8)\n",
    "            data.append(im)\n",
    "            \n",
    "data = np.array(data)"
   ]
  },
  {
   "cell_type": "code",
   "execution_count": 73,
   "metadata": {},
   "outputs": [],
   "source": [
    "for d, n in zip(data, img_numbers):\n",
    "    PIL.Image.fromarray(d).save('nobackground/frame' + str(n) + '.jpg')"
   ]
  },
  {
   "cell_type": "code",
   "execution_count": 74,
   "metadata": {},
   "outputs": [],
   "source": [
    "#save data composed of 442 images of shape 90,90 into a mp4 file with 20 fps\n",
    "fourcc = cv2.VideoWriter_fourcc(*'mp4v')\n",
    "out = cv2.VideoWriter('output_nobackground.mp4', fourcc, 20, (90,90), 0)\n",
    "for i in range(len(data)):\n",
    "    out.write(data[i])\n",
    "out.release()\n",
    "\n",
    "\n",
    "\n"
   ]
  }
 ],
 "metadata": {
  "kernelspec": {
   "display_name": "neuralforecast",
   "language": "python",
   "name": "python3"
  },
  "language_info": {
   "codemirror_mode": {
    "name": "ipython",
    "version": 3
   },
   "file_extension": ".py",
   "mimetype": "text/x-python",
   "name": "python",
   "nbconvert_exporter": "python",
   "pygments_lexer": "ipython3",
   "version": "3.10.8"
  },
  "orig_nbformat": 4
 },
 "nbformat": 4,
 "nbformat_minor": 2
}
